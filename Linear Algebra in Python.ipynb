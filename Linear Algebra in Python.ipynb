{
 "cells": [
  {
   "cell_type": "markdown",
   "id": "68de3417",
   "metadata": {},
   "source": [
    "# Creating A 3D Vector Using Array"
   ]
  },
  {
   "cell_type": "code",
   "execution_count": 1,
   "id": "706eb8df",
   "metadata": {},
   "outputs": [
    {
     "name": "stdout",
     "output_type": "stream",
     "text": [
      "[1 2 3]\n"
     ]
    }
   ],
   "source": [
    "# create a vector\n",
    "from numpy import array\n",
    "# define vector\n",
    "v = array([1, 2, 3])\n",
    "print(v)"
   ]
  },
  {
   "cell_type": "markdown",
   "id": "06d5eed7",
   "metadata": {},
   "source": [
    "## Airthmatic Operations of Vectors"
   ]
  },
  {
   "cell_type": "code",
   "execution_count": 2,
   "id": "cd179815",
   "metadata": {},
   "outputs": [
    {
     "name": "stdout",
     "output_type": "stream",
     "text": [
      "[1 2 3]\n",
      "[1 2 3]\n",
      "[2 4 6]\n"
     ]
    }
   ],
   "source": [
    "# vector addition (Head to Tail addition of two Vectors)\n",
    "from numpy import array\n",
    "# define first vector\n",
    "a = array([1, 2, 3])\n",
    "print(a)\n",
    "# define second vector\n",
    "b = array([1, 2, 3])\n",
    "print(b)\n",
    "# add vectors\n",
    "c = a + b\n",
    "print(c)"
   ]
  },
  {
   "cell_type": "code",
   "execution_count": 4,
   "id": "2f4a2708",
   "metadata": {},
   "outputs": [
    {
     "name": "stdout",
     "output_type": "stream",
     "text": [
      "[1 2 3]\n",
      "[0.5 0.5 0.5]\n",
      "[0.5 1.5 2.5]\n"
     ]
    }
   ],
   "source": [
    "# vector subtraction (Head to Tail substraction of two Vectors)\n",
    "from numpy import array\n",
    "# define first vector\n",
    "a = array([1, 2, 3])\n",
    "print(a)\n",
    "# define second vector\n",
    "b = array([0.5, 0.5, 0.5])\n",
    "print(b)\n",
    "# subtract vectors\n",
    "c = a - b\n",
    "print(c)"
   ]
  },
  {
   "cell_type": "code",
   "execution_count": 5,
   "id": "12419659",
   "metadata": {},
   "outputs": [
    {
     "name": "stdout",
     "output_type": "stream",
     "text": [
      "[1 2 3]\n",
      "[1 2 3]\n",
      "[1 4 9]\n"
     ]
    }
   ],
   "source": [
    "# vector multiplication (Tail to Tail Cross Product)\n",
    "from numpy import array\n",
    "# define first vector\n",
    "a = array([1, 2, 3])\n",
    "print(a)\n",
    "# define second vector\n",
    "b = array([1, 2, 3])\n",
    "print(b)\n",
    "# multiply vectors\n",
    "c = a * b\n",
    "print(c)"
   ]
  },
  {
   "cell_type": "code",
   "execution_count": 6,
   "id": "a6a6b700",
   "metadata": {},
   "outputs": [
    {
     "name": "stdout",
     "output_type": "stream",
     "text": [
      "[1 2 3]\n",
      "[1 2 3]\n",
      "[1. 1. 1.]\n"
     ]
    }
   ],
   "source": [
    "# vector division (Tail to Tail)\n",
    "from numpy import array\n",
    "# define first vector\n",
    "a = array([1, 2, 3])\n",
    "print(a)\n",
    "# define second vector\n",
    "b = array([1, 2, 3])\n",
    "print(b)\n",
    "# divide vectors\n",
    "c = a / b\n",
    "print(c)"
   ]
  },
  {
   "cell_type": "code",
   "execution_count": 7,
   "id": "3cba379a",
   "metadata": {},
   "outputs": [
    {
     "name": "stdout",
     "output_type": "stream",
     "text": [
      "[1 2 3]\n",
      "[1 2 3]\n",
      "14\n"
     ]
    }
   ],
   "source": [
    "# vector dot product (Tail to Tail)\n",
    "from numpy import array\n",
    "# define first vector\n",
    "a = array([1, 2, 3])\n",
    "print(a)\n",
    "# define second vector\n",
    "b = array([1, 2, 3])\n",
    "print(b)\n",
    "# multiply vectors\n",
    "c = a.dot(b)\n",
    "print(c)"
   ]
  },
  {
   "cell_type": "code",
   "execution_count": 8,
   "id": "1290fef6",
   "metadata": {},
   "outputs": [
    {
     "name": "stdout",
     "output_type": "stream",
     "text": [
      "[1 2 3]\n",
      "0.5\n",
      "[0.5 1.  1.5]\n"
     ]
    }
   ],
   "source": [
    "# vector-scalar multiplication\n",
    "from numpy import array\n",
    "# define vector\n",
    "a = array([1, 2, 3])\n",
    "print(a)\n",
    "# define scalar\n",
    "s = 0.5\n",
    "print(s)\n",
    "# multiplication\n",
    "c = s * a\n",
    "print(c)"
   ]
  },
  {
   "cell_type": "code",
   "execution_count": 9,
   "id": "57a337f3",
   "metadata": {},
   "outputs": [
    {
     "name": "stdout",
     "output_type": "stream",
     "text": [
      "[1 2 3]\n",
      "6.0\n"
     ]
    }
   ],
   "source": [
    "# vector L1 norm\n",
    "# The length Magnitude of a vector using the Manhatten Norm ||v||1 = |a1| + |a2| + |a3|\n",
    "from numpy import array\n",
    "from numpy.linalg import norm\n",
    "# define vector\n",
    "a = array([1, 2, 3])\n",
    "print(a)\n",
    "# calculate norm\n",
    "l1 = norm(a, 1)\n",
    "print(l1)"
   ]
  },
  {
   "cell_type": "code",
   "execution_count": 10,
   "id": "5392c8da",
   "metadata": {},
   "outputs": [
    {
     "name": "stdout",
     "output_type": "stream",
     "text": [
      "[1 2 3]\n",
      "3.7416573867739413\n"
     ]
    }
   ],
   "source": [
    "# vector L2 norm\n",
    "# The length Magnitude of a vector using the Euclidean Norm \n",
    "from numpy import array\n",
    "from numpy.linalg import norm\n",
    "# define vector\n",
    "a = array([1, 2, 3])\n",
    "print(a)\n",
    "# calculate norm\n",
    "l2 = norm(a)\n",
    "print(l2)"
   ]
  },
  {
   "cell_type": "code",
   "execution_count": 11,
   "id": "163d7fdc",
   "metadata": {},
   "outputs": [
    {
     "name": "stdout",
     "output_type": "stream",
     "text": [
      "[1 2 3]\n",
      "3.0\n"
     ]
    }
   ],
   "source": [
    "# vector max norm\n",
    "# The length Magnitude of a vector using the Max Norm\n",
    "from math import inf\n",
    "from numpy import array\n",
    "from numpy.linalg import norm\n",
    "# define vector\n",
    "a = array([1, 2, 3])\n",
    "print(a)\n",
    "# calculate norm\n",
    "maxnorm = norm(a, inf)\n",
    "print(maxnorm)"
   ]
  },
  {
   "cell_type": "markdown",
   "id": "3862f8eb",
   "metadata": {},
   "source": [
    "## Matrices and Matrix Arithmetic"
   ]
  },
  {
   "cell_type": "code",
   "execution_count": 12,
   "id": "890a5c20",
   "metadata": {},
   "outputs": [
    {
     "name": "stdout",
     "output_type": "stream",
     "text": [
      "[[1 2 3]\n",
      " [4 5 6]]\n"
     ]
    }
   ],
   "source": [
    "# create matrix\n",
    "from numpy import array\n",
    "A = array([[1, 2, 3], [4, 5, 6]])\n",
    "print(A)"
   ]
  },
  {
   "cell_type": "code",
   "execution_count": 13,
   "id": "a17dcdff",
   "metadata": {},
   "outputs": [
    {
     "name": "stdout",
     "output_type": "stream",
     "text": [
      "[[1 2 3]\n",
      " [4 5 6]]\n",
      "[[1 2 3]\n",
      " [4 5 6]]\n",
      "[[ 2  4  6]\n",
      " [ 8 10 12]]\n"
     ]
    }
   ],
   "source": [
    "# matrix addition\n",
    "from numpy import array\n",
    "# define first matrix\n",
    "A = array([\n",
    "[1, 2, 3],\n",
    "[4, 5, 6]])\n",
    "print(A)\n",
    "# define second matrix\n",
    "B = array([\n",
    "[1, 2, 3],\n",
    "[4, 5, 6]])\n",
    "print(B)\n",
    "# add matrices\n",
    "C = A + B\n",
    "print(C)"
   ]
  },
  {
   "cell_type": "code",
   "execution_count": 14,
   "id": "0a1ee7c6",
   "metadata": {},
   "outputs": [
    {
     "name": "stdout",
     "output_type": "stream",
     "text": [
      "[[1 2 3]\n",
      " [4 5 6]]\n",
      "[[0.5 0.5 0.5]\n",
      " [0.5 0.5 0.5]]\n",
      "[[0.5 1.5 2.5]\n",
      " [3.5 4.5 5.5]]\n"
     ]
    }
   ],
   "source": [
    "# matrix subtraction\n",
    "from numpy import array\n",
    "# define first matrix\n",
    "A = array([\n",
    "[1, 2, 3],\n",
    "[4, 5, 6]])\n",
    "print(A)\n",
    "# define second matrix\n",
    "B = array([\n",
    "[0.5, 0.5, 0.5],\n",
    "[0.5, 0.5, 0.5]])\n",
    "print(B)\n",
    "# subtract matrices\n",
    "C = A - B\n",
    "print(C)"
   ]
  },
  {
   "cell_type": "code",
   "execution_count": 15,
   "id": "d7e42a5d",
   "metadata": {},
   "outputs": [
    {
     "name": "stdout",
     "output_type": "stream",
     "text": [
      "[[1 2 3]\n",
      " [4 5 6]]\n",
      "[[1 2 3]\n",
      " [4 5 6]]\n",
      "[[ 1  4  9]\n",
      " [16 25 36]]\n"
     ]
    }
   ],
   "source": [
    "# matrix Hadamard product\n",
    "from numpy import array\n",
    "# define first matrix\n",
    "A = array([\n",
    "[1, 2, 3],\n",
    "[4, 5, 6]])\n",
    "print(A)\n",
    "# define second matrix\n",
    "B = array([\n",
    "[1, 2, 3],\n",
    "[4, 5, 6]])\n",
    "print(B)\n",
    "# multiply matrices\n",
    "C = A * B\n",
    "print(C)"
   ]
  },
  {
   "cell_type": "code",
   "execution_count": 16,
   "id": "bae1deee",
   "metadata": {},
   "outputs": [
    {
     "name": "stdout",
     "output_type": "stream",
     "text": [
      "[[1 2 3]\n",
      " [4 5 6]]\n",
      "[[1 2 3]\n",
      " [4 5 6]]\n",
      "[[1. 1. 1.]\n",
      " [1. 1. 1.]]\n"
     ]
    }
   ],
   "source": [
    "# matrix division\n",
    "from numpy import array\n",
    "# define first matrix\n",
    "A = array([\n",
    "[1, 2, 3],\n",
    "[4, 5, 6]])\n",
    "print(A)\n",
    "# define second matrix\n",
    "B = array([\n",
    "[1, 2, 3],\n",
    "[4, 5, 6]])\n",
    "print(B)\n",
    "# divide matrices\n",
    "C = A / B\n",
    "print(C)"
   ]
  },
  {
   "cell_type": "code",
   "execution_count": 17,
   "id": "9d4323b3",
   "metadata": {},
   "outputs": [
    {
     "name": "stdout",
     "output_type": "stream",
     "text": [
      "[[1 2]\n",
      " [3 4]\n",
      " [5 6]]\n",
      "[[1 2]\n",
      " [3 4]]\n",
      "[[ 7 10]\n",
      " [15 22]\n",
      " [23 34]]\n",
      "[[ 7 10]\n",
      " [15 22]\n",
      " [23 34]]\n"
     ]
    }
   ],
   "source": [
    "# matrix dot product\n",
    "from numpy import array\n",
    "# define first matrix\n",
    "A = array([\n",
    "[1, 2],\n",
    "[3, 4],\n",
    "[5, 6]])\n",
    "print(A)\n",
    "# define second matrix\n",
    "B = array([\n",
    "[1, 2],\n",
    "[3, 4]])\n",
    "print(B)\n",
    "# multiply matrices\n",
    "C = A.dot(B)\n",
    "print(C)\n",
    "# multiply matrices with @ operator\n",
    "D = A @ B\n",
    "print(D)"
   ]
  },
  {
   "cell_type": "code",
   "execution_count": 19,
   "id": "e2b4ee46",
   "metadata": {},
   "outputs": [
    {
     "name": "stdout",
     "output_type": "stream",
     "text": [
      "[[1 2]\n",
      " [3 4]\n",
      " [5 6]]\n",
      "[0.5 0.5]\n",
      "[1.5 3.5 5.5]\n"
     ]
    }
   ],
   "source": [
    "# matrix-vector multiplication\n",
    "from numpy import array\n",
    "# define matrix\n",
    "A = array([\n",
    "[1, 2],\n",
    "[3, 4],\n",
    "[5, 6]])\n",
    "print(A)\n",
    "# define vector\n",
    "B = array([0.5, 0.5])\n",
    "print(B)\n",
    "# multiply\n",
    "C = A.dot(B)\n",
    "print(C)"
   ]
  },
  {
   "cell_type": "code",
   "execution_count": 20,
   "id": "84b1c591",
   "metadata": {},
   "outputs": [
    {
     "name": "stdout",
     "output_type": "stream",
     "text": [
      "[[1 2]\n",
      " [3 4]\n",
      " [5 6]]\n",
      "0.5\n",
      "[[0.5 1. ]\n",
      " [1.5 2. ]\n",
      " [2.5 3. ]]\n"
     ]
    }
   ],
   "source": [
    "# matrix-scalar multiplication\n",
    "from numpy import array\n",
    "# define matrix\n",
    "A = array([[1, 2], [3, 4], [5, 6]])\n",
    "print(A)\n",
    "# define scalar\n",
    "b = 0.5\n",
    "print(b)\n",
    "# multiply\n",
    "C = A * b\n",
    "print(C)"
   ]
  },
  {
   "cell_type": "markdown",
   "id": "56208a86",
   "metadata": {},
   "source": [
    "## Types of Matrices"
   ]
  },
  {
   "cell_type": "code",
   "execution_count": 21,
   "id": "3bffb752",
   "metadata": {},
   "outputs": [
    {
     "name": "stdout",
     "output_type": "stream",
     "text": [
      "[[1 2 3]\n",
      " [1 2 3]\n",
      " [1 2 3]]\n",
      "[[1 0 0]\n",
      " [1 2 0]\n",
      " [1 2 3]]\n",
      "[[1 2 3]\n",
      " [0 2 3]\n",
      " [0 0 3]]\n"
     ]
    }
   ],
   "source": [
    "# triangular matrices\n",
    "from numpy import array\n",
    "from numpy import tril\n",
    "from numpy import triu\n",
    "# define square matrix\n",
    "M = array([\n",
    "[1, 2, 3],\n",
    "[1, 2, 3],\n",
    "[1, 2, 3]])\n",
    "print(M)\n",
    "# lower triangular matrix\n",
    "lower = tril(M)\n",
    "print(lower)\n",
    "# upper triangular matrix\n",
    "upper = triu(M)\n",
    "print(upper)"
   ]
  },
  {
   "cell_type": "code",
   "execution_count": 23,
   "id": "20e10d4d",
   "metadata": {},
   "outputs": [
    {
     "name": "stdout",
     "output_type": "stream",
     "text": [
      "[[1 2 3]\n",
      " [1 2 3]\n",
      " [1 2 3]]\n",
      "[1 2 3]\n",
      "[[1 0 0]\n",
      " [0 2 0]\n",
      " [0 0 3]]\n"
     ]
    }
   ],
   "source": [
    "# diagonal matrix\n",
    "from numpy import array\n",
    "from numpy import diag\n",
    "# define square matrix\n",
    "M = array([\n",
    "[1, 2, 3],\n",
    "[1, 2, 3],\n",
    "[1, 2, 3]])\n",
    "print(M)\n",
    "# extract diagonal vector\n",
    "d = diag(M)\n",
    "print(d)\n",
    "# create diagonal matrix from vector\n",
    "D = diag(d)\n",
    "print(D)"
   ]
  },
  {
   "cell_type": "code",
   "execution_count": 24,
   "id": "1a342baa",
   "metadata": {},
   "outputs": [
    {
     "name": "stdout",
     "output_type": "stream",
     "text": [
      "[[1. 0. 0.]\n",
      " [0. 1. 0.]\n",
      " [0. 0. 1.]]\n"
     ]
    }
   ],
   "source": [
    "# identity matrix\n",
    "from numpy import identity\n",
    "I = identity(3)\n",
    "print(I)"
   ]
  },
  {
   "cell_type": "code",
   "execution_count": 25,
   "id": "c2f4ad65",
   "metadata": {},
   "outputs": [
    {
     "name": "stdout",
     "output_type": "stream",
     "text": [
      "[[ 1  0]\n",
      " [ 0 -1]]\n",
      "[[ 1  0]\n",
      " [ 0 -1]]\n",
      "[[ 1.  0.]\n",
      " [-0. -1.]]\n",
      "[[1 0]\n",
      " [0 1]]\n"
     ]
    }
   ],
   "source": [
    "# orthogonal matrix\n",
    "from numpy import array\n",
    "from numpy.linalg import inv\n",
    "# define orthogonal matrix\n",
    "Q = array([\n",
    "[1, 0],\n",
    "[0, -1]])\n",
    "print(Q)\n",
    "# inverse equivalence\n",
    "V = inv(Q)\n",
    "print(Q.T)\n",
    "print(V)\n",
    "# identity equivalence\n",
    "I = Q.dot(Q.T)\n",
    "print(I)"
   ]
  },
  {
   "cell_type": "code",
   "execution_count": 26,
   "id": "444a7856",
   "metadata": {},
   "outputs": [
    {
     "name": "stdout",
     "output_type": "stream",
     "text": [
      "[[1 2]\n",
      " [3 4]\n",
      " [5 6]]\n",
      "[[1 3 5]\n",
      " [2 4 6]]\n"
     ]
    }
   ],
   "source": [
    "# transpose matrix\n",
    "from numpy import array\n",
    "# define matrix\n",
    "A = array([\n",
    "[1, 2],\n",
    "[3, 4],\n",
    "[5, 6]])\n",
    "print(A)\n",
    "# calculate transpose\n",
    "C = A.T\n",
    "print(C)"
   ]
  },
  {
   "cell_type": "code",
   "execution_count": 27,
   "id": "0b48edb8",
   "metadata": {},
   "outputs": [
    {
     "name": "stdout",
     "output_type": "stream",
     "text": [
      "[[1. 2.]\n",
      " [3. 4.]]\n",
      "[[-2.   1. ]\n",
      " [ 1.5 -0.5]]\n",
      "[[1.00000000e+00 1.11022302e-16]\n",
      " [0.00000000e+00 1.00000000e+00]]\n"
     ]
    }
   ],
   "source": [
    "# invert matrix\n",
    "from numpy import array\n",
    "from numpy.linalg import inv\n",
    "# define matrix\n",
    "A = array([\n",
    "[1.0, 2.0],\n",
    "[3.0, 4.0]])\n",
    "print(A)\n",
    "# invert matrix\n",
    "B = inv(A)\n",
    "print(B)\n",
    "# multiply A and B\n",
    "I = A.dot(B)\n",
    "print(I)"
   ]
  },
  {
   "cell_type": "code",
   "execution_count": 28,
   "id": "adcb05cf",
   "metadata": {},
   "outputs": [
    {
     "name": "stdout",
     "output_type": "stream",
     "text": [
      "[[1 2 3]\n",
      " [4 5 6]\n",
      " [7 8 9]]\n",
      "15\n"
     ]
    }
   ],
   "source": [
    "# matrix trace\n",
    "from numpy import array\n",
    "from numpy import trace\n",
    "# define matrix\n",
    "A = array([\n",
    "[1, 2, 3],\n",
    "[4, 5, 6],\n",
    "[7, 8, 9]])\n",
    "print(A)\n",
    "# calculate trace\n",
    "B = trace(A)\n",
    "print(B)"
   ]
  },
  {
   "cell_type": "code",
   "execution_count": 31,
   "id": "555d488b",
   "metadata": {},
   "outputs": [
    {
     "name": "stdout",
     "output_type": "stream",
     "text": [
      "[[1 2 3]\n",
      " [4 5 6]\n",
      " [7 8 9]]\n",
      "6.66133814775094e-16\n"
     ]
    },
    {
     "data": {
      "text/plain": [
       "6.66133814775094e-16"
      ]
     },
     "execution_count": 31,
     "metadata": {},
     "output_type": "execute_result"
    }
   ],
   "source": [
    "# matrix determinant\n",
    "from numpy import array\n",
    "from numpy.linalg import det\n",
    "# define matrix\n",
    "A = array([\n",
    "[1, 2, 3],\n",
    "[4, 5, 6],\n",
    "[7, 8, 9]])\n",
    "print(A)\n",
    "# calculate determinant\n",
    "B = det(A)\n",
    "print(B)\n",
    "norm(B)"
   ]
  },
  {
   "cell_type": "code",
   "execution_count": 32,
   "id": "454bb61c",
   "metadata": {},
   "outputs": [
    {
     "name": "stdout",
     "output_type": "stream",
     "text": [
      "[1 2 3]\n",
      "1\n",
      "[0 0 0 0 0]\n",
      "0\n"
     ]
    }
   ],
   "source": [
    "# vector rank\n",
    "from numpy import array\n",
    "from numpy.linalg import matrix_rank\n",
    "# rank\n",
    "v1 = array([1,2,3])\n",
    "print(v1)\n",
    "vr1 = matrix_rank(v1)\n",
    "print(vr1)\n",
    "# zero rank\n",
    "v2 = array([0,0,0,0,0])\n",
    "print(v2)\n",
    "vr2 = matrix_rank(v2)\n",
    "print(vr2)"
   ]
  },
  {
   "cell_type": "code",
   "execution_count": 33,
   "id": "040e4d07",
   "metadata": {},
   "outputs": [
    {
     "name": "stdout",
     "output_type": "stream",
     "text": [
      "[[0 0]\n",
      " [0 0]]\n",
      "0\n",
      "[[1 2]\n",
      " [1 2]]\n",
      "1\n",
      "[[1 2]\n",
      " [3 4]]\n",
      "2\n"
     ]
    }
   ],
   "source": [
    "# matrix rank\n",
    "from numpy import array\n",
    "from numpy.linalg import matrix_rank\n",
    "# rank 0\n",
    "M0 = array([\n",
    "[0,0],\n",
    "[0,0]])\n",
    "print(M0)\n",
    "mr0 = matrix_rank(M0)\n",
    "print(mr0)\n",
    "# rank 1\n",
    "M1 = array([\n",
    "[1,2],\n",
    "[1,2]])\n",
    "print(M1)\n",
    "mr1 = matrix_rank(M1)\n",
    "print(mr1)\n",
    "# rank 2\n",
    "M2 = array([\n",
    "[1,2],\n",
    "[3,4]])\n",
    "print(M2)\n",
    "mr2 = matrix_rank(M2)\n",
    "print(mr2)"
   ]
  },
  {
   "cell_type": "code",
   "execution_count": 34,
   "id": "2062174d",
   "metadata": {},
   "outputs": [
    {
     "name": "stdout",
     "output_type": "stream",
     "text": [
      "[[1 0 0 1 0 0]\n",
      " [0 0 2 0 0 1]\n",
      " [0 0 0 2 0 0]]\n",
      "  (0, 0)\t1\n",
      "  (0, 3)\t1\n",
      "  (1, 2)\t2\n",
      "  (1, 5)\t1\n",
      "  (2, 3)\t2\n",
      "[[1 0 0 1 0 0]\n",
      " [0 0 2 0 0 1]\n",
      " [0 0 0 2 0 0]]\n"
     ]
    }
   ],
   "source": [
    "# sparse matrix\n",
    "from numpy import array\n",
    "from scipy.sparse import csr_matrix\n",
    "# create dense matrix\n",
    "A = array([\n",
    "[1, 0, 0, 1, 0, 0],\n",
    "[0, 0, 2, 0, 0, 1],\n",
    "[0, 0, 0, 2, 0, 0]])\n",
    "print(A)\n",
    "# convert to sparse matrix (CSR method)\n",
    "S = csr_matrix(A)\n",
    "print(S)\n",
    "# reconstruct dense matrix\n",
    "B = S.todense()\n",
    "print(B)"
   ]
  },
  {
   "cell_type": "code",
   "execution_count": 35,
   "id": "d9fefd7a",
   "metadata": {},
   "outputs": [
    {
     "name": "stdout",
     "output_type": "stream",
     "text": [
      "[[1 0 0 1 0 0]\n",
      " [0 0 2 0 0 1]\n",
      " [0 0 0 2 0 0]]\n",
      "0.7222222222222222\n"
     ]
    }
   ],
   "source": [
    "# sparsity calculation\n",
    "from numpy import array\n",
    "from numpy import count_nonzero\n",
    "# create dense matrix\n",
    "A = array([\n",
    "[1, 0, 0, 1, 0, 0],\n",
    "[0, 0, 2, 0, 0, 1],\n",
    "[0, 0, 0, 2, 0, 0]])\n",
    "print(A)\n",
    "# calculate sparsity\n",
    "sparsity = 1.0 - count_nonzero(A) / A.size\n",
    "print(sparsity)"
   ]
  },
  {
   "cell_type": "code",
   "execution_count": 36,
   "id": "a80f5a40",
   "metadata": {},
   "outputs": [
    {
     "name": "stdout",
     "output_type": "stream",
     "text": [
      "(3, 3, 3)\n",
      "[[[ 1  2  3]\n",
      "  [ 4  5  6]\n",
      "  [ 7  8  9]]\n",
      "\n",
      " [[11 12 13]\n",
      "  [14 15 16]\n",
      "  [17 18 19]]\n",
      "\n",
      " [[21 22 23]\n",
      "  [24 25 26]\n",
      "  [27 28 29]]]\n"
     ]
    }
   ],
   "source": [
    "# create tensor\n",
    "from numpy import array\n",
    "T = array([\n",
    "[[1,2,3], [4,5,6], [7,8,9]],\n",
    "[[11,12,13], [14,15,16], [17,18,19]],\n",
    "[[21,22,23], [24,25,26], [27,28,29]]])\n",
    "print(T.shape)\n",
    "print(T)"
   ]
  },
  {
   "cell_type": "code",
   "execution_count": 37,
   "id": "0d5a7562",
   "metadata": {},
   "outputs": [
    {
     "name": "stdout",
     "output_type": "stream",
     "text": [
      "[[[ 2  4  6]\n",
      "  [ 8 10 12]\n",
      "  [14 16 18]]\n",
      "\n",
      " [[22 24 26]\n",
      "  [28 30 32]\n",
      "  [34 36 38]]\n",
      "\n",
      " [[42 44 46]\n",
      "  [48 50 52]\n",
      "  [54 56 58]]]\n"
     ]
    }
   ],
   "source": [
    "# tensor addition\n",
    "from numpy import array\n",
    "# define first tensor\n",
    "A = array([\n",
    "[[1,2,3], [4,5,6], [7,8,9]],\n",
    "[[11,12,13], [14,15,16], [17,18,19]],\n",
    "[[21,22,23], [24,25,26], [27,28,29]]])\n",
    "# define second tensor\n",
    "B = array([\n",
    "[[1,2,3], [4,5,6], [7,8,9]],\n",
    "[[11,12,13], [14,15,16], [17,18,19]],\n",
    "[[21,22,23], [24,25,26], [27,28,29]]])\n",
    "# add tensors\n",
    "C = A + B\n",
    "print(C)"
   ]
  },
  {
   "cell_type": "code",
   "execution_count": 38,
   "id": "7a57bf0f",
   "metadata": {},
   "outputs": [
    {
     "name": "stdout",
     "output_type": "stream",
     "text": [
      "[[[0 0 0]\n",
      "  [0 0 0]\n",
      "  [0 0 0]]\n",
      "\n",
      " [[0 0 0]\n",
      "  [0 0 0]\n",
      "  [0 0 0]]\n",
      "\n",
      " [[0 0 0]\n",
      "  [0 0 0]\n",
      "  [0 0 0]]]\n"
     ]
    }
   ],
   "source": [
    "# tensor subtraction\n",
    "from numpy import array\n",
    "# define first tensor\n",
    "A = array([\n",
    "[[1,2,3], [4,5,6], [7,8,9]],\n",
    "[[11,12,13], [14,15,16], [17,18,19]],\n",
    "[[21,22,23], [24,25,26], [27,28,29]]])\n",
    "# define second tensor\n",
    "B = array([\n",
    "[[1,2,3], [4,5,6], [7,8,9]],\n",
    "[[11,12,13], [14,15,16], [17,18,19]],\n",
    "[[21,22,23], [24,25,26], [27,28,29]]])\n",
    "# subtract tensors\n",
    "C = A - B\n",
    "print(C)"
   ]
  },
  {
   "cell_type": "code",
   "execution_count": 39,
   "id": "ca8aeb5e",
   "metadata": {},
   "outputs": [
    {
     "name": "stdout",
     "output_type": "stream",
     "text": [
      "[[[  1   4   9]\n",
      "  [ 16  25  36]\n",
      "  [ 49  64  81]]\n",
      "\n",
      " [[121 144 169]\n",
      "  [196 225 256]\n",
      "  [289 324 361]]\n",
      "\n",
      " [[441 484 529]\n",
      "  [576 625 676]\n",
      "  [729 784 841]]]\n"
     ]
    }
   ],
   "source": [
    "# tensor Hadamard product\n",
    "from numpy import array\n",
    "# define first tensor\n",
    "A = array([\n",
    "[[1,2,3], [4,5,6], [7,8,9]],\n",
    "[[11,12,13], [14,15,16], [17,18,19]],\n",
    "[[21,22,23], [24,25,26], [27,28,29]]])\n",
    "# define second tensor\n",
    "B = array([\n",
    "[[1,2,3], [4,5,6], [7,8,9]],\n",
    "[[11,12,13], [14,15,16], [17,18,19]],\n",
    "[[21,22,23], [24,25,26], [27,28,29]]])\n",
    "# multiply tensors\n",
    "C = A * B\n",
    "print(C)"
   ]
  },
  {
   "cell_type": "code",
   "execution_count": 40,
   "id": "d692d404",
   "metadata": {},
   "outputs": [
    {
     "name": "stdout",
     "output_type": "stream",
     "text": [
      "[[[1. 1. 1.]\n",
      "  [1. 1. 1.]\n",
      "  [1. 1. 1.]]\n",
      "\n",
      " [[1. 1. 1.]\n",
      "  [1. 1. 1.]\n",
      "  [1. 1. 1.]]\n",
      "\n",
      " [[1. 1. 1.]\n",
      "  [1. 1. 1.]\n",
      "  [1. 1. 1.]]]\n"
     ]
    }
   ],
   "source": [
    "# tensor division\n",
    "from numpy import array\n",
    "# define first tensor\n",
    "A = array([\n",
    "[[1,2,3], [4,5,6], [7,8,9]],\n",
    "[[11,12,13], [14,15,16], [17,18,19]],\n",
    "[[21,22,23], [24,25,26], [27,28,29]]])\n",
    "# define second tensor\n",
    "B = array([\n",
    "[[1,2,3], [4,5,6], [7,8,9]],\n",
    "[[11,12,13], [14,15,16], [17,18,19]],\n",
    "[[21,22,23], [24,25,26], [27,28,29]]])\n",
    "# divide tensors\n",
    "C = A / B\n",
    "print(C)"
   ]
  },
  {
   "cell_type": "code",
   "execution_count": 41,
   "id": "8a5e283e",
   "metadata": {},
   "outputs": [
    {
     "name": "stdout",
     "output_type": "stream",
     "text": [
      "[[3 4]\n",
      " [6 8]]\n"
     ]
    }
   ],
   "source": [
    "# tensor product\n",
    "from numpy import array\n",
    "from numpy import tensordot\n",
    "# define first vector\n",
    "A = array([1,2])\n",
    "# define second vector\n",
    "B = array([3,4])\n",
    "# calculate tensor product\n",
    "C = tensordot(A, B, axes=0)\n",
    "print(C)"
   ]
  },
  {
   "cell_type": "code",
   "execution_count": null,
   "id": "71bf1672",
   "metadata": {},
   "outputs": [],
   "source": []
  }
 ],
 "metadata": {
  "kernelspec": {
   "display_name": "Python 3",
   "language": "python",
   "name": "python3"
  },
  "language_info": {
   "codemirror_mode": {
    "name": "ipython",
    "version": 3
   },
   "file_extension": ".py",
   "mimetype": "text/x-python",
   "name": "python",
   "nbconvert_exporter": "python",
   "pygments_lexer": "ipython3",
   "version": "3.8.11"
  }
 },
 "nbformat": 4,
 "nbformat_minor": 5
}
